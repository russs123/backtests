{
 "cells": [
  {
   "cell_type": "code",
   "execution_count": 44,
   "metadata": {},
   "outputs": [],
   "source": [
    "# Import libraries\n",
    "import pandas as pd\n",
    "import pandas_ta as ta\n",
    "import numpy as np\n",
    "from IPython.display import clear_output\n",
    "import matplotlib.pyplot as plt\n",
    "import plotly.graph_objects as go\n",
    "import seaborn as sns"
   ]
  },
  {
   "cell_type": "code",
   "execution_count": 45,
   "metadata": {},
   "outputs": [],
   "source": [
    "timeframe = \"H1\"\n",
    "symbols = [\"GBP_JPY\"]\n",
    "systems = [\"Strat\"]\n",
    "starting_balance = 100\n",
    "risk_per_trade = 0.02 # Risking 2% per trade\n",
    "market_open_time = \"09:00\"\n",
    "opening_range_hours = 5\n",
    "latest_entry_time = \"22:00\"\n",
    "trade_direction = \"long\"\n",
    "timezone = \"Europe/London\""
   ]
  },
  {
   "cell_type": "code",
   "execution_count": 46,
   "metadata": {},
   "outputs": [],
   "source": [
    "# Load CSV File\n",
    "def get_price_data(symbol):\n",
    "    df = pd.read_csv(f\"../data/{symbol}_{timeframe}.csv\", parse_dates=['Datetime'], index_col='Datetime')\n",
    "    df.index = pd.to_datetime(df.index, utc=True).tz_convert(timezone)  # Keeps local timezone without converting to UTC\n",
    "    return df"
   ]
  },
  {
   "cell_type": "code",
   "execution_count": 47,
   "metadata": {},
   "outputs": [],
   "source": [
    "def calculate_inputs(df):\n",
    "  \n",
    "    # Ensure the Datetime column is a datetime object\n",
    "    df.index = pd.to_datetime(df.index)\n",
    "    df['Date'] = df.index.date\n",
    "    df['Time'] = df.index.time\n",
    "    df['Last_Candle'] = df['Date'] != df['Date'].shift(-1)\n",
    "\n",
    "    df['ATR'] = ta.atr(df['High'], df['Low'], df['Close'], length=14)\n",
    "\n",
    "    # Calculate the opening range end time\n",
    "    opening_range_start_time = (pd.Timestamp.combine(pd.Timestamp.today(), pd.to_datetime(market_open_time, format=\"%H:%M\").time()) \n",
    "                            - pd.Timedelta(hours=opening_range_hours)).time()\n",
    "\n",
    "    # Filter the DataFrame for the opening range period\n",
    "    df_open_range = df[\n",
    "        (df['Time'] >= opening_range_start_time) & \n",
    "        (df['Time'] < pd.to_datetime(market_open_time, format=\"%H:%M\").time())\n",
    "    ]\n",
    "\n",
    "    # Group by each trading day and calculate the high and low for that range\n",
    "    opening_range = df_open_range.groupby('Date').agg(\n",
    "        Open_Range_High=('High', 'max'),\n",
    "        Open_Range_Low=('Low', 'min')\n",
    "    )\n",
    "\n",
    "    # Merge the opening range back to the original DataFrame without resetting the index\n",
    "    df = df.join(opening_range, on='Date')\n",
    "\n",
    "    # Drop the 'Time' and 'Date' columns if no longer needed\n",
    "    df = df.drop(['Time', 'Date'], axis=1)\n",
    "\n",
    "    return df"
   ]
  },
  {
   "cell_type": "code",
   "execution_count": 48,
   "metadata": {},
   "outputs": [],
   "source": [
    "def generate_signals(df, s, atr_sl, tp_ratio):\n",
    "    # Get hour values\n",
    "    df[\"Hour\"] = df.index.hour\n",
    "    \n",
    "    # Various entry conditions\n",
    "    c1_long = (df['Open'] <= df['Open_Range_High']) & (df['Close'] > df['Open_Range_High'])  # Breakout above opening range (long signal)\n",
    "    c1_short = (df['Open'] >= df['Open_Range_Low']) & (df['Close'] < df['Open_Range_Low'])  # Breakout below opening range (short signal)\n",
    "    \n",
    "    c2 = df.index.time >= pd.to_datetime(market_open_time, format='%H:%M').time()\n",
    "    c3 = df.index.time <= pd.to_datetime(latest_entry_time, format='%H:%M').time()\n",
    "    c4 = df['Open_Range_High'].notna() # Check that the current candle actually has a range. The sunday candles on CFDs can open in the evening\n",
    "    c5 = (df['High'] - df['Low']) < df['ATR'] * 2.5\n",
    "    c6 = (df['High'] - df['Low']) > df['ATR'] * 1.0\n",
    "\n",
    "    #generate entries and exits\n",
    "    # Entries depend on the strategy\n",
    "    if s == \"Strat\":\n",
    "        if trade_direction == \"long\":\n",
    "            # default entry rules\n",
    "            df[f\"{s}_Signal\"] = c1_long.shift(1) & c2 & c3 & c4 & c5.shift(1) & c6.shift(1)\n",
    "        elif trade_direction == \"short\":\n",
    "            df[f\"{s}_Signal\"] = c1_short.shift(1) & c2 & c3 & c4 & c5.shift(1) & c6.shift(1)\n",
    "\n",
    "    # Generate exits\n",
    "    if trade_direction == \"long\":\n",
    "        nominal_stop_dist = df['Open'] - df['Open_Range_Low']\n",
    "        df['SL'] = df['Open'] - nominal_stop_dist * atr_sl\n",
    "        stop_dist = df['Open'] - df['SL']\n",
    "        df['TP'] = df['Open'] + stop_dist * tp_ratio\n",
    "    elif trade_direction == \"short\":\n",
    "        nominal_stop_dist = df['Open_Range_High'] - df['Open']\n",
    "        df['SL'] = df['Open'] + nominal_stop_dist * atr_sl\n",
    "        stop_dist = df['SL'] - df['Open']\n",
    "        df['TP'] = df['Open'] - stop_dist * tp_ratio\n",
    "   \n",
    "    return df"
   ]
  },
  {
   "cell_type": "code",
   "execution_count": 49,
   "metadata": {},
   "outputs": [],
   "source": [
    "def generate_trades(df, s):\n",
    "    #create empty list for trades\n",
    "    trades_list = []\n",
    "    trade_open = False\n",
    "    open_change = {}\n",
    "    balance = starting_balance\n",
    "    equity = starting_balance\n",
    "    balance_history = []\n",
    "    equity_history = []\n",
    "    \n",
    "    #iterate through rows to work out entries and exits\n",
    "    for i, row in df.iterrows():\n",
    "        #if there is currently no trade\n",
    "        if not trade_open:\n",
    "            #check if long signal was generated and enter at the same time\n",
    "            if row[f\"{s}_Signal\"] == True:\n",
    "                entry_date = i\n",
    "                entry_price = row.Open\n",
    "                sl = row.SL\n",
    "                tp = row.TP\n",
    "                # Calculate position size based on risk percentage\n",
    "                risk_amount = balance * risk_per_trade\n",
    "                if entry_price == sl:\n",
    "                    position_size = 0.01\n",
    "                else:\n",
    "                    position_size = risk_amount / abs(entry_price - sl)  # Position size in units\n",
    "                trade_open = True\n",
    "        #check if a trade is already open\n",
    "        if trade_open:\n",
    "            #get price values\n",
    "            low = row.Low\n",
    "            high = row.High\n",
    "\n",
    "            if trade_direction == \"long\":\n",
    "                # Calculate unrealized PnL\n",
    "                floating_pnl = (high - entry_price) * position_size\n",
    "                equity = balance + floating_pnl  # Update equity dynamically\n",
    "\n",
    "                # Calculate unrealized PnL\n",
    "                #check if stop is hit\n",
    "                if low <= sl:\n",
    "                    #first check for a gap down\n",
    "                    if row.Open <= sl:\n",
    "                        exit_price = row.Open\n",
    "                    else:\n",
    "                        exit_price = sl\n",
    "                    trade_open = False\n",
    "\n",
    "                # Now do the same check for take profit\n",
    "                elif high >= tp:\n",
    "                    #first check for a gap up\n",
    "                    if row.Open >= tp:\n",
    "                        exit_price = row.Open\n",
    "                    else:\n",
    "                        exit_price = tp\n",
    "                    trade_open = False\n",
    "\n",
    "            elif trade_direction == \"short\":\n",
    "                floating_pnl = (entry_price - low) * position_size\n",
    "                equity = balance + floating_pnl  # Update equity dynamically\n",
    "\n",
    "                # Calculate unrealized PnL\n",
    "                #check if stop is hit\n",
    "                if high >= sl:\n",
    "                    #first check for a gap down\n",
    "                    if row.Open >= sl:\n",
    "                        exit_price = row.Open\n",
    "                    else:\n",
    "                        exit_price = sl\n",
    "                    trade_open = False\n",
    "\n",
    "                # Now do the same check for take profit\n",
    "                elif low <= tp:\n",
    "                    #first check for a gap up\n",
    "                    if row.Open <= tp:\n",
    "                        exit_price = row.Open\n",
    "                    else:\n",
    "                        exit_price = tp\n",
    "                    trade_open = False\n",
    "\n",
    "            if not trade_open: # If trade has been closed\n",
    "                exit_date = i\n",
    "                trade_open = False\n",
    "\n",
    "                if trade_direction == \"long\":   \n",
    "                    pnl = (exit_price - entry_price) * position_size  # PnL in currency terms\n",
    "                elif trade_direction == \"short\":\n",
    "                    pnl = -1 * (exit_price - entry_price) * position_size # PnL in currency terms\n",
    "                balance += pnl  # Update balance with PnL\n",
    "                \n",
    "\n",
    "                #store trade data in a list\n",
    "                trade = [entry_date, entry_price, exit_date, exit_price, position_size, pnl, balance, True]\n",
    "                #append trade to overall trade list\n",
    "                trades_list.append(trade)\n",
    "\n",
    "        # Store balance and equity\n",
    "        balance_history.append(balance)\n",
    "        equity_history.append(equity)\n",
    "\n",
    "    trades = pd.DataFrame(trades_list, columns=[\"Entry_Date\", \"Entry_Price\", \"Exit_Date\", \"Exit_Price\", \"Position_Size\", \"PnL\", \"Balance\", \"Sys_Trade\"])\n",
    "    \n",
    "    #calculate return of each trade as well as the trade duration\n",
    "    trades[f\"{s}_Return\"] = trades.Balance / trades.Balance.shift(1)\n",
    "    dur = []\n",
    "    for i, row in trades.iterrows():\n",
    "        d1 = row.Entry_Date\n",
    "        d2 = row.Exit_Date\n",
    "        dur.append(np.busday_count(d1.date(), d2.date()) + 1)#Add 1 because formula doesn't include the end date otherwise\n",
    "    \n",
    "    trades[f\"{s}_Duration\"] = dur\n",
    "\n",
    "    #create a new dataframe with an index of exit dfs\n",
    "    returns = pd.DataFrame(index=trades.Exit_Date)\n",
    "    #create a new dataframe with an index of entries to track entry price\n",
    "    entries = pd.DataFrame(index=trades.Entry_Date)\n",
    "\n",
    "    entries[f\"{s}_Entry_Price\"] = pd.Series(trades.Entry_Price).values\n",
    "    #add the Return column to this new data frame\n",
    "    returns[f\"{s}_Ret\"] = pd.Series(trades[f\"{s}_Return\"]).values\n",
    "    returns[f\"{s}_Trade\"] = pd.Series(trades.Sys_Trade).values\n",
    "    returns[f\"{s}_Duration\"] = pd.Series(trades[f\"{s}_Duration\"]).values\n",
    "    returns[f\"{s}_PnL\"] = pd.Series(trades.PnL).values\n",
    "    returns[f\"{s}_Balance\"] = pd.Series(trades.Balance).values\n",
    "    change_ser = pd.Series(open_change, name=f\"{s}_Change\")\n",
    "\n",
    "    #add the returns from the trades to the main data frame\n",
    "    df = pd.concat([df, returns, entries, change_ser], axis=1)\n",
    "    #fill all the NaN return values with 1 as there was no profit or loss on those days\n",
    "    df[f\"{s}_Ret\"] = df[f\"{s}_Ret\"].fillna(1)\n",
    "    #fill all the NaN trade values with False as there was no trade on those days\n",
    "    df[f\"{s}_Trade\"] = df[f\"{s}_Trade\"].infer_objects(copy=False)\n",
    "    #fill all the NaN return values with 1 as there was no loss on those days\n",
    "    df[f\"{s}_Change\"] = df[f\"{s}_Change\"].astype(float).fillna(1)\n",
    "    \n",
    "    #use the updated balance and equity variables\n",
    "    df[f\"{s}_Bal\"] = pd.Series(balance_history, index=df.index).ffill()\n",
    "    df[f\"{s}_Equity\"] = pd.Series(equity_history, index=df.index).ffill()\n",
    "\n",
    "    active_trades = np.where(df[f\"{s}_Trade\"] == True, True, False)\n",
    "    df[f\"{s}_In_Market\"] = df[f\"{s}_Trade\"].copy()\n",
    "    #populate trades column based on duration\n",
    "    for count, t in enumerate(active_trades):\n",
    "        if t == True:\n",
    "            dur = df[f\"{s}_Duration\"].iat[count]\n",
    "            for i in range(int(dur)):\n",
    "                #starting from the exit date, move backwards and mark each trading day\n",
    "                df[f\"{s}_In_Market\"].iat[count - i] = True\n",
    "    \n",
    "    return df, trades"
   ]
  },
  {
   "cell_type": "code",
   "execution_count": 50,
   "metadata": {},
   "outputs": [],
   "source": [
    "def backtest(price, atr_sl, tp_ratio):\n",
    "    #calculate strategy inputs\n",
    "    price = calculate_inputs(price)\n",
    "\n",
    "    for s in systems:\n",
    "        #generate signals\n",
    "        price = generate_signals(price, s, atr_sl, tp_ratio)\n",
    "\n",
    "        #generate trades\n",
    "        price, trades = generate_trades(price, s)\n",
    "\n",
    "    for s in systems:\n",
    "        #calculate drawdown\n",
    "        price[f\"{s}_Peak\"] = price[f\"{s}_Bal\"].cummax()\n",
    "        price[f\"{s}_DD\"] = price[f\"{s}_Bal\"] - price[f\"{s}_Peak\"]\n",
    "\n",
    "    return price, trades"
   ]
  },
  {
   "cell_type": "code",
   "execution_count": 51,
   "metadata": {},
   "outputs": [
    {
     "name": "stdout",
     "output_type": "stream",
     "text": [
      "Progress: 100 %\n"
     ]
    }
   ],
   "source": [
    "results = []\n",
    "prog = 0\n",
    "sl_range = np.arange(1.0, 1.5, 0.5)\n",
    "tp_range = np.arange(1.5, 2.0, 0.5)\n",
    "max_prog = len(symbols) * len(sl_range) * len(tp_range)\n",
    "for sym in symbols:\n",
    "    price = get_price_data(sym)\n",
    "    for atr_sl in sl_range:\n",
    "        for tp_ratio in tp_range:\n",
    "            result, trades = backtest(price, atr_sl, tp_ratio)\n",
    "            results.append(result)\n",
    "            prog += 1\n",
    "            clear_output(wait=True)\n",
    "            print(f\"Progress: {round((prog / max_prog) * 100)} %\")"
   ]
  },
  {
   "cell_type": "code",
   "execution_count": 52,
   "metadata": {},
   "outputs": [],
   "source": [
    "def get_metrics(system, data):\n",
    "    rfr = 0.03 # risk free return rate of 3%\n",
    "    if timeframe == \"daily\":\n",
    "        N = 252 # number of trading days per year\n",
    "    elif timeframe == \"H1\":\n",
    "        N = 252 * 6.5 # number of trading hours per year\n",
    "    elif timeframe == \"M15\":\n",
    "        N = 252 * 6.5 * 4\n",
    "    elif timeframe == \"M5\":\n",
    "        N = 252 * 6.5 * 12\n",
    "    metrics = {}\n",
    "    years = (data.index[-1] - data.index[0]).days / 365.25\n",
    "    sys_return = round(((data[f\"{system}_Bal\"].iloc[-1]/data[f\"{system}_Bal\"].iloc[0]) - 1) * 100, 2)\n",
    "    sys_cagr = round(((((data[f\"{system}_Bal\"].iloc[-1]/data[f\"{system}_Bal\"].iloc[0])**(1/years))-1)*100), 2)\n",
    "    sys_peak = data[f\"{system}_Bal\"].cummax()\n",
    "    sys_dd = round(((data[f\"{system}_DD\"] / data[f\"{system}_Peak\"]).min()) * 100, 2)\n",
    "    rod = sys_cagr / abs(sys_dd)\n",
    "    periods_in_market = data[f\"{system}_In_Market\"].sum()\n",
    " \n",
    "    win = data[f\"{system}_Ret\"] > 1\n",
    "    loss = data[f\"{system}_Ret\"] < 1\n",
    "    signals = data[f\"{system}_Signal\"].sum()\n",
    "    trades_triggered = data[f\"{system}_Trade\"].sum()\n",
    "    tim = round(periods_in_market / len(data) * 100, 2)\n",
    "    rbe = round((sys_cagr / tim) * 100, 2)\n",
    "    rbeod = rbe / abs(sys_dd) # return by exposure by drawdown (assuming drawdown doesn\"t scale as TIM increases. Could be wrong)\n",
    "    gaps = (data.Open > data[f\"{system}_Entry_Price\"]).sum()\n",
    "    non_gaps = (data.Open <= data[f\"{system}_Entry_Price\"]).sum()\n",
    "    wins = win.sum()\n",
    "    losses = loss.sum()\n",
    "    winrate = round(wins / (wins + losses) * 100, 2)\n",
    "    \n",
    "    # calculate the size of the move from the entry data to the close\n",
    "    ret_size = np.where(data[f\"{system}_Trade\"] == True, data[f\"{system}_Ret\"], 1)\n",
    "    avg_up_move = (data[f\"{system}_Ret\"][data[f\"{system}_Ret\"] > 1].mean() - 1) * 100\n",
    "    max_up_move = (data[f\"{system}_Ret\"].max() - 1) * 100\n",
    "    avg_down_move = (data[f\"{system}_Ret\"][data[f\"{system}_Ret\"] < 1].mean() - 1) * 100\n",
    "    max_down_move = (data[f\"{system}_Ret\"].min() - 1) * 100\n",
    "    avg_rr = round(abs(avg_up_move / avg_down_move), 2)\n",
    "\n",
    "    #sharpe ratio\n",
    "    ret = data[f\"{system}_Bal\"].pct_change().dropna()\n",
    "    excess_ret = ret - rfr/N\n",
    "    sharpe = np.sqrt(N) * excess_ret.mean() / excess_ret.std()\n",
    "\n",
    "    #sortino ratio\n",
    "    downside_std = excess_ret[excess_ret < 0].std()\n",
    "    sortino = np.sqrt(N) * excess_ret.mean() / downside_std\n",
    "        \n",
    "    # Calculate longest trade and average trade duration\n",
    "    longest_trade_duration = data[\"Strat_Duration\"].max()\n",
    "    avg_trade_duration = data[\"Strat_Duration\"].mean()\n",
    "\n",
    "    #save data\n",
    "    metrics[\"Start_Balance\"] = round(data[f\"{system}_Bal\"].iat[0], 2)\n",
    "    metrics[\"Final_Balance\"] = round(data[f\"{system}_Bal\"].iat[-1], 2)\n",
    "    #metrics[\"Total_Return\"] = round(sys_return, 2)\n",
    "    metrics[\"Annual_Return\"] = round(sys_cagr, 2)\n",
    "    #metrics[\"Time_in_Market\"] = round(tim, 2)\n",
    "    #metrics[\"Return_By_Exposure\"] = rbe\n",
    "    metrics[\"Max_Drawdown\"] = round(sys_dd, 2)\n",
    "    #metrics[\"Return_Over_Drawdown\"] = round(rod, 2)\n",
    "    #metrics[\"RBE_Over_Drawdown\"] = round(rbeod, 2)\n",
    "    metrics[\"Sharpe\"] = round(sharpe, 2)\n",
    "    metrics[\"Sortino\"] = round(sortino, 2)\n",
    "    #metrics[\"Signals\"] = round(signals, 2)\n",
    "    metrics[\"Trades\"] = round(trades_triggered, 2)\n",
    "    \n",
    "    #metrics[\"Gap\"] = round(gaps)\n",
    "    #metrics[\"No_Gap\"] = round(non_gaps)\n",
    "    #metrics[\"Wins\"] = round(wins, 2)\n",
    "    #metrics[\"Losses\"] = round(losses, 2)\n",
    "    metrics[\"Winrate\"] = round(winrate, 2)\n",
    "    #metrics[\"Max_Trade_Return_pct\"] = round(max_up_move, 2)\n",
    "    #metrics[\"Max_Trade_Loss_pct\"] = round(max_down_move, 2)\n",
    "    #metrics[\"Avg_Trade_Return_pct\"] = round(avg_up_move, 2)\n",
    "    #metrics[\"Avg_Trade_Loss_pct\"] = round(avg_down_move, 2)\n",
    "    metrics[\"Avg_RR\"] = avg_rr\n",
    "\n",
    "    # Add Longest and Average Trade Duration\n",
    "    metrics[\"Longest_Trade_Duration\"] = longest_trade_duration\n",
    "    metrics[\"Avg_Trade_Duration\"] = round(avg_trade_duration, 2)\n",
    "\n",
    "    return metrics"
   ]
  },
  {
   "cell_type": "code",
   "execution_count": 53,
   "metadata": {},
   "outputs": [],
   "source": [
    "for count, res in enumerate(results):\n",
    "    sys_metrics = {}\n",
    "    for s in systems:\n",
    "        sys_metrics.update({s: get_metrics(s, res)})\n",
    "    sys_metrics_df = pd.DataFrame.from_dict(sys_metrics)"
   ]
  },
  {
   "cell_type": "code",
   "execution_count": 54,
   "metadata": {},
   "outputs": [],
   "source": [
    "def show_trades(df, trades, start_date=None, end_date=None, trade_number=None):\n",
    "\n",
    "    # Ensure datetime index with timezone awareness\n",
    "    df.index = pd.to_datetime(df.index).tz_convert(timezone)\n",
    "    trades['Entry_Date'] = pd.to_datetime(trades['Entry_Date']).dt.tz_convert(timezone)\n",
    "    trades['Exit_Date'] = pd.to_datetime(trades['Exit_Date']).dt.tz_convert(timezone)\n",
    "\n",
    "    # If start_date is provided, filter the trades dataframe to only include trades after the start_date\n",
    "    if start_date:\n",
    "        start_date = pd.Timestamp(start_date, tz=timezone)\n",
    "        trades = trades[trades['Entry_Date'] >= start_date]\n",
    "        trades = trades[trades['Exit_Date'] >= start_date]  # Ensure exit date is also after the start_date\n",
    "    \n",
    "    # If trade_number is specified, filter the data based on that trade's entry and exit dates\n",
    "    if trade_number is not None:\n",
    "        # Get the specific trade's entry and exit dates using iloc to avoid KeyError after filtering\n",
    "        trade_entry_date = trades.iloc[trade_number]['Entry_Date']\n",
    "        trade_exit_date = trades.iloc[trade_number]['Exit_Date']\n",
    "        \n",
    "        # Extend the date range by 1 day before entry and 1 day after exit\n",
    "        extended_start_date = trade_entry_date - pd.Timedelta(days=1)\n",
    "        extended_end_date = trade_exit_date + pd.Timedelta(days=1)\n",
    "\n",
    "        # Filter the price data (df) and trades data by the extended entry and exit dates\n",
    "        df = df[(df.index >= extended_start_date) & (df.index <= extended_end_date)]\n",
    "        trades = trades[(trades['Entry_Date'] >= extended_start_date) & (trades['Exit_Date'] <= extended_end_date)]\n",
    "    else:\n",
    "        # If no trade_number is passed, apply the global date range filters\n",
    "        if start_date:\n",
    "            df = df[df.index >= start_date]\n",
    "            trades = trades[trades['Entry_Date'] >= start_date]\n",
    "        if end_date:\n",
    "            end_date = pd.Timestamp(end_date, tz=timezone)\n",
    "            df = df[df.index <= end_date]\n",
    "            trades = trades[trades['Exit_Date'] <= end_date]\n",
    "\n",
    "    # Create buy and sell signals from trades dataframe\n",
    "    buy_signals = pd.DataFrame({\n",
    "        'date': trades['Entry_Date'],\n",
    "        'price': trades['Entry_Price']\n",
    "    }).set_index('date')\n",
    "\n",
    "    sell_signals = pd.DataFrame({\n",
    "        'date': trades['Exit_Date'],\n",
    "        'price': trades['Exit_Price']\n",
    "    }).set_index('date')\n",
    "    \n",
    "    # Create the figure\n",
    "    fig = go.Figure()\n",
    "\n",
    "    # Add candlestick chart\n",
    "    fig.add_trace(go.Candlestick(\n",
    "        x=df.index,\n",
    "        open=df['Open'],\n",
    "        high=df['High'],\n",
    "        low=df['Low'],\n",
    "        close=df['Close'],\n",
    "        name='Candlestick',\n",
    "        increasing_line_color='green',\n",
    "        decreasing_line_color='red'\n",
    "    ))\n",
    "\n",
    "    # Plot buy and sell signals\n",
    "    fig.add_trace(go.Scatter(x=buy_signals.index, y=buy_signals['price'], \n",
    "                             mode='markers+text', marker=dict(symbol='diamond', color='green', size=12, line=dict(color='black', width=2)), \n",
    "                             name='Buy Signal', text='BUY', textposition='bottom center', \n",
    "                             textfont=dict(size=14, color='black', family='Arial', weight='bold')))\n",
    "    fig.add_trace(go.Scatter(x=sell_signals.index, y=sell_signals['price'], \n",
    "                             mode='markers+text', marker=dict(symbol='diamond', color='red', size=12, line=dict(color='black', width=2)),\n",
    "                             name='Sell Signal', text='SELL', textposition='top center', \n",
    "                             textfont=dict(size=14, color='black', family='Arial', weight='bold')))\n",
    "\n",
    "    # Customize layout for panning and zooming\n",
    "    fig.update_layout(\n",
    "        title='Candlestick Chart with Indicators and Trade Signals',\n",
    "        xaxis_title='Datetime',\n",
    "        yaxis_title='Price',\n",
    "        xaxis_rangeslider_visible=True,  # Enable range slider\n",
    "        height=900,\n",
    "        autosize=True,  # Enable auto resize for the chart\n",
    "        margin={'l': 50, 'r': 50, 't': 60, 'b': 60},  # Add margins around the chart\n",
    "        showlegend=True,\n",
    "        xaxis=dict(\n",
    "            type='category',  # Treat the x-axis as categorical to remove gaps\n",
    "            rangeslider=dict(visible=True),  # Rangeslider visible for easier panning\n",
    "            fixedrange=False,  # Disable zooming with the mouse wheel, only panning allowed\n",
    "        ),\n",
    "        yaxis=dict(\n",
    "            fixedrange=False,  # Allow zooming on y-axis too\n",
    "        ),\n",
    "    )\n",
    "\n",
    "    fig.show()"
   ]
  },
  {
   "cell_type": "code",
   "execution_count": 55,
   "metadata": {},
   "outputs": [
    {
     "data": {
      "application/vnd.plotly.v1+json": {
       "config": {
        "plotlyServerURL": "https://plot.ly"
       },
       "data": [
        {
         "close": {
          "bdata": "ObTIdr6DZkBzaJHtfI9mQGZmZmZmjmZATmIQWDmUZkD2KFyPwp1mQIlBYOXQqmZA16NwPQqvZkB7FK5H4bJmQFyPwvUotGZAokW28/2sZkDb+X5qvKxmQI/C9Shcr2ZA2c73U+OpZkC6SQwCK6dmQKrx0k1isGZAwcqhRbazZkAj2/l+arRmQD0K16NwtWZAokW28/28ZkAzMzMzM8NmQPp+arx0v2ZASOF6FK6/ZkAxCKwcWsxmQOOlm8Qg4GZARIts5/vpZkAK16NwPeJmQH0/NV664WZABFYOLbLlZkCDwMqhRfJmQAIrhxbZ9mZAc2iR7XzvZkC+nxov3exmQKrx0k1i7GZAlkOLbOfrZkAMAiuHFu1mQK5H4XoU7mZAg8DKoUXuZkBQjZduEvNmQH9qvHST+GZAj8L1KFz3ZkAX2c73U/dmQPCnxks3+WZAokW28/30ZkDLoUW28+1mQFTjpZvEAGdArkfhehT+ZkBmZmZmZvZmQG8Sg8DK+WZA001iEFj5ZkAZBFYOLfpmQNejcD0K92ZAarx0kxgEZ0DFILByaAlnQC/dJAaB+WZAJQaBlUMDZ0A9CtejcAVnQLByaJHtBGdAUrgehesBZ0B56SYxCARnQB+F61G4/mZA3SQGgZX7ZkCoxks3iQFnQOXQItv5/mZAWmQ730/1ZkAQWDm0yPZmQBsv3SQG8WZA46WbxCDwZkBGtvP91OxmQKabxCCw6mZAKVyPwvXwZkA9CtejcO1mQPp+arx042ZA5dAi2/nuZkBt5/up8fJmQKRwPQrX82ZAXI/C9Sj0ZkAv3SQGge1mQGIQWDm08GZAKVyPwvX0ZkBqvHSTGPRmQBsv3SQG+WZAz/dT46X7ZkC0yHa+n/pmQJZDi2zn+2ZAsp3vp8b7ZkCNl24Sg/hmQG3n+6nx8mZAXrpJDALjZkBg5dAi2+lmQAIrhxbZ5mZAqMZLN4nhZkArhxbZzudmQKwcWmQ772ZA+FPjpZv0ZkBYObTIdu5mQFK4HoXr6WZAJzEIrBzqZkBaZDvfT+VmQBsv3SQG6WZAO99PjZfeZkCamZmZmeFmQGZmZmZm6mZAEFg5tMjyZkCamZmZmfFmQBKDwMqh8WZA30+Nl27yZkAX2c73U/NmQLByaJHt9GZA8KfGSzfxZkBt5/up8fJmQIGVQ4ts92ZAj8L1KFz/ZkCq8dJNYgBnQFg5tMh2/mZAoBov3ST+ZkC+nxov3fxmQG8Sg8DKAWdA4XoUrkcBZ0BQjZduEgtnQC/dJAaBDWdAZmZmZmYOZ0CNl24SgxBnQN9PjZduGmdAPzVeukkcZ0DTTWIQWCFnQC2yne+nLmdA9ihcj8ItZ0Av3SQGgS1nQJMYBFYOMWdA+FPjpZs0Z0Av3SQGgTVnQJZDi2znN2dA0SLb+X4yZ0CsHFpkOzdnQCuHFtnOL2dAHVpkO98vZ0AGgZVDizhnQI2XbhKDMGdAbef7qfEyZ0BmZmZmZjZnQB+F61G4NmdAz/dT46UzZ0BaZDvfTzVnQD0K16NwLWdACKwcWmQrZ0BzaJHtfDNnQPCnxks3MWdA6SYxCKw8Z0Boke18PzVnQA==",
          "dtype": "f8"
         },
         "decreasing": {
          "line": {
           "color": "red"
          }
         },
         "high": {
          "bdata": "IbByaJGJZkAEVg4tspFmQBkEVg4tkmZAL90kBoGVZkD2KFyPwqFmQMl2vp8ar2ZA16NwPQqvZkAAAAAAALhmQMdLN4lBuGZA/Knx0k22ZkCDwMqhRa5mQKrx0k1isGZADi2yne+vZkBcj8L1KKxmQC/dJAaBsWZAzczMzMy0ZkDpJjEIrLRmQNnO91PjtWZAAiuHFtm+ZkAUrkfheshmQKabxCCwxmZA2c73U+PBZkBYObTIds5mQLbz/dR44WZAVg4tsp3rZkCYbhKDwOpmQCUGgZVD42ZA001iEFjpZkDLoUW28/VmQP7UeOkm+WZAmG4Sg8D2ZkCwcmiR7fBmQEa28/3U8GZAaJHtfD/tZkDhehSuR+1mQHNoke1872ZA001iEFjxZkBqvHSTGPRmQAaBlUOL/GZAi2zn+6n5ZkAj2/l+avhmQKabxCCw+mZAke18PzX6ZkB9PzVeuvVmQD81XrpJBGdAQmDl0CIDZ0A730+Nl/5mQEjhehSu+2ZARIts5/v9ZkCuR+F6FP5mQFg5tMh2/mZA4XoUrkcJZ0BSuB6F6wlnQG8Sg8DKCWdAz/dT46UDZ0A730+NlwZnQG8Sg8DKCWdA9ihcj8IFZ0A3iUFg5QRnQPhT46WbBGdAJQaBlUP/ZkBzaJHtfAdnQL6fGi/dBGdA8KfGSzcBZ0Bg5dAi2/lmQEjhehSu92ZA7nw/NV7yZkC28/3UePFmQLx0kxgE7mZA6SYxCKz0ZkCuR+F6FPZmQNnO91Pj7WZATDeJQWDxZkCkcD0K1/NmQMdLN4lBAGdAObTIdr73ZkCcxCCwcvhmQOOlm8Qg9GZAMzMzMzP3ZkAv3SQGgfVmQMUgsHJo+WZAI9v5fmr8ZkAhsHJokf1mQMdLN4lB/GZACtejcD3+ZkDNzMzMzPxmQKabxCCw+mZAMQisHFr0ZkDD9Shcj+pmQMP1KFyP6mZAK4cW2c7nZkCgGi/dJOpmQGIQWDm08GZAhetRuB75ZkBxPQrXo/hmQNEi2/l+7mZAhxbZzvfrZkAX2c73U+tmQFTjpZvE7GZAc2iR7XzvZkCuR+F6FOJmQLx0kxgE7mZAgZVDi2zzZkBaZDvfT/VmQHnpJjEI9GZAiUFg5dDyZkDVeOkmMfRmQHe+nxov9WZAz/dT46XzZkDdJAaBlfNmQH0/NV66/WZAppvEILACZ0DpJjEIrARnQEoMAiuHAmdAEFg5tMj+ZkBU46WbxABnQI2XbhKDBGdAH4XrUbgGZ0CiRbbz/QxnQA4tsp3vD2dAH4XrUbgOZ0B56SYxCBRnQPhT46WbHGdA9ihcj8IdZ0DLoUW28yFnQAAAAAAAMGdAf2q8dJMwZ0Atsp3vpy5nQNNNYhBYMWdAkxgEVg41Z0CamZmZmTVnQPLSTWIQOGdABoGVQ4s0Z0DD9ShcjzpnQEw3iUFgOWdA2/l+arw0Z0C8dJMYBDpnQGiR7Xw/OWdAsp3vp8YzZ0B7FK5H4TZnQBfZzvdTO2dADi2yne83Z0A9CtejcDVnQAAAAAAAOGdAppvEILAuZ0D2KFyPwjVnQBSuR+F6NGdADAIrhxY9Z0BMN4lBYEVnQA==",
          "dtype": "f8"
         },
         "increasing": {
          "line": {
           "color": "green"
          }
         },
         "low": {
          "bdata": "4XoUrkeBZkCoxks3iYFmQAisHFpki2ZAke18PzWOZkCLbOf7qZFmQCcxCKwclmZA2/l+aryoZkAEVg4tsq1mQIlBYOXQrmZAjZduEoOsZkC4HoXrUahmQAaBlUOLrGZAuB6F61GoZkBoke18P6VmQI2XbhKDoGZA001iEFipZkA5tMh2vq9mQB1aZDvfr2ZAokW28/20ZkDNzMzMzLxmQFg5tMh2vmZA2c73U+O1ZkBt5/up8bpmQJZDi2zny2ZAc2iR7XzfZkBI4XoUrt9mQOXQItv52mZAaJHtfD/dZkAhsHJokeVmQLbz/dR48WZAkxgEVg7tZkDByqFFtudmQBkEVg4t6mZAnu+nxkvnZkAGgZVDi+hmQGq8dJMY7GZARIts5/vpZkDhehSuR+1mQLgehetR8GZAz/dT46XzZkDNzMzMzPRmQBKDwMqh9WZABoGVQ4v0ZkC+nxov3exmQHe+nxov7WZA9ihcj8L5ZkCuR+F6FPZmQL6fGi/d9GZAarx0kxj4ZkDRItv5fvZmQCGwcmiR9WZATDeJQWD1ZkBzaJHtfP9mQFK4HoXr8WZASOF6FK73ZkAv3SQGgQFnQKRwPQrXA2dAZDvfT43/ZkBqvHSTGABnQPhT46Wb/GZAGQRWDi36ZkDP91PjpftmQKabxCCw/mZAzczMzMz0ZkB3vp8aL/VmQO58PzVe7mZADAIrhxbtZkD4U+Olm+xmQFTjpZvE6GZAHVpkO9/nZkAlBoGVQ+tmQFTjpZvE4GZAtMh2vp/iZkB56SYxCOxmQPCnxks38WZA16NwPQrvZkD8qfHSTepmQESLbOf76WZA001iEFjpZkBiEFg5tPBmQJZDi2zn82ZAqvHSTWL4ZkAbL90kBvlmQOf7qfHS+WZASgwCK4f6ZkC8dJMYBPZmQGIQWDm08GZAd76fGi/hZkC28/3UeOFmQBfZzvdT42ZA8KfGSzfhZkD4U+Olm+BmQCuHFtnO52ZAexSuR+HqZkBCYOXQIutmQIGVQ4ts42ZA7FG4HoXjZkD8qfHSTeJmQClcj8L15GZAkxgEVg7dZkDHSzeJQdhmQCcxCKwc2mZArkfhehTmZkAUrkfhevBmQKAaL90k7mZAhetRuB7tZkAIrBxaZOtmQGZmZmZm8mZAVOOlm8TwZkA9CtejcO1mQEoMAiuH8mZAexSuR+H2ZkBKDAIrh/5mQI2XbhKD/GZATmIQWDn8ZkDhehSuR/lmQESLbOf7+WZArBxaZDv/ZkBU46WbxABnQPCnxks3CWdAqMZLN4kJZ0C8dJMYBA5nQH9qvHSTEGdA8KfGSzcZZ0AhsHJokRlnQOF6FK5HIWdAQmDl0CIrZ0DjpZvEIChnQG3n+6nxKmdA1XjpJjEwZ0BU46WbxDBnQNV46SYxNGdAnu+nxksvZ0C+nxov3TBnQGDl0CLbLWdAdZMYBFYuZ0DfT42Xbi5nQD81XrpJMGdAGQRWDi0uZ0BU46WbxDBnQAwCK4cWNWdAUrgehesxZ0Cq8dJNYjBnQCcxCKwcKmdA1XjpJjEoZ0DRItv5fipnQKwcWmQ7L2dARIts5/slZ0CcxCCwcjBnQA==",
          "dtype": "f8"
         },
         "name": "Candlestick",
         "open": {
          "bdata": "eekmMQiEZkCkcD0K14NmQIGVQ4tsj2ZAZmZmZmaOZkDVeOkmMZRmQEw3iUFgnWZAmG4Sg8CqZkDl0CLb+a5mQHsUrkfhsmZAMQisHFq0ZkCTGARWDq1mQNv5fmq8rGZAdZMYBFauZkBSuB6F66lmQEJg5dAip2ZAnMQgsHKwZkCyne+nxrNmQJzEILBytGZAxSCwcmi1ZkCTGARWDr1mQDMzMzMzw2ZA+n5qvHS/ZkA5tMh2vr9mQDEIrBxazGZAx0s3iUHgZkDLoUW28+lmQBkEVg4t4mZAfT81XrrhZkB9PzVeuuVmQBkEVg4t8mZAmG4Sg8D2ZkCBlUOLbO9mQM3MzMzM7GZAI9v5fmrsZkCWQ4ts5+tmQIXrUbge7WZA2/l+arzsZkA730+Nl+5mQF66SQwC82ZA+FPjpZv4ZkCBlUOLbPdmQI/C9Shc92ZA8KfGSzf5ZkCiRbbz/fRmQFK4HoXr7WZADAIrhxYBZ0CgGi/dJP5mQNEi2/l+9mZAYOXQItv5ZkDhehSuR/lmQArXo3A9+mZAQmDl0CL3ZkBqvHSTGARnQG8Sg8DKCWdAtvP91Hj5ZkCPwvUoXANnQCGwcmiRBWdAGy/dJAYFZ0Bg5dAi2wFnQGq8dJMYBGdAJQaBlUP/ZkDP91PjpftmQBKDwMqhAWdAyXa+nxr/ZkDTTWIQWPVmQBBYObTI9mZAsHJoke3wZkDHSzeJQfBmQM3MzMzM7GZAtMh2vp/qZkApXI/C9fBmQEw3iUFg7WZAZDvfT43jZkDXo3A9Cu9mQFCNl24S82ZAwcqhRbbzZkBOYhBYOfRmQARWDi2y7WZAYhBYObTwZkCwcmiR7fRmQPLSTWIQ9GZAKVyPwvX4ZkDP91PjpftmQKabxCCw+mZACtejcD3+ZkDjpZvEIPxmQI2XbhKD+GZAbef7qfHyZkBt5/up8eJmQG8Sg8DK6WZAAiuHFtnmZkCoxks3ieFmQCuHFtnO52ZAukkMAivvZkDpJjEIrPRmQFg5tMh27mZARIts5/vpZkCuR+F6FOpmQOF6FK5H5WZAhetRuB7pZkBYObTIdt5mQC/dJAaB4WZASgwCK4fqZkAQWDm0yPJmQLbz/dR48WZAmpmZmZnxZkDfT42XbvJmQAisHFpk82ZAO99PjZfyZkAbL90kBvFmQG3n+6nx8mZACKwcWmT3ZkCBlUOLbP9mQKrx0k1iAGdAZmZmZmb+ZkCR7Xw/Nf5mQEa28/3U/GZAYOXQItsBZ0BaZDvfTwFnQFCNl24SC2dAL90kBoENZ0BmZmZmZg5nQH9qvHSTEGdA30+Nl24aZ0DHSzeJQRxnQMUgsHJoIWdASgwCK4cuZ0D2KFyPwi1nQC/dJAaBLWdAGy/dJAYxZ0Aj2/l+ajRnQNNNYhBYNWdADAIrhxYxZ0A1XrpJDDJnQKwcWmQ7N2dAObTIdr4vZ0CWQ4ts5y9nQHE9CtejOGdAFK5H4XowZ0Bt5/up8TJnQHWTGARWNmdAiUFg5dA2Z0DP91PjpTNnQPCnxks3NWdATDeJQWAtZ0AIrBxaZCtnQPp+arx0M2dA/tR46SYxZ0DpJjEIrDxnQA==",
          "dtype": "f8"
         },
         "type": "candlestick",
         "x": [
          "2024-01-03T10:00:00+00:00",
          "2024-01-03T11:00:00+00:00",
          "2024-01-03T12:00:00+00:00",
          "2024-01-03T13:00:00+00:00",
          "2024-01-03T14:00:00+00:00",
          "2024-01-03T15:00:00+00:00",
          "2024-01-03T16:00:00+00:00",
          "2024-01-03T17:00:00+00:00",
          "2024-01-03T18:00:00+00:00",
          "2024-01-03T19:00:00+00:00",
          "2024-01-03T20:00:00+00:00",
          "2024-01-03T21:00:00+00:00",
          "2024-01-03T22:00:00+00:00",
          "2024-01-03T23:00:00+00:00",
          "2024-01-04T00:00:00+00:00",
          "2024-01-04T01:00:00+00:00",
          "2024-01-04T02:00:00+00:00",
          "2024-01-04T03:00:00+00:00",
          "2024-01-04T04:00:00+00:00",
          "2024-01-04T05:00:00+00:00",
          "2024-01-04T06:00:00+00:00",
          "2024-01-04T07:00:00+00:00",
          "2024-01-04T08:00:00+00:00",
          "2024-01-04T09:00:00+00:00",
          "2024-01-04T10:00:00+00:00",
          "2024-01-04T11:00:00+00:00",
          "2024-01-04T12:00:00+00:00",
          "2024-01-04T13:00:00+00:00",
          "2024-01-04T14:00:00+00:00",
          "2024-01-04T15:00:00+00:00",
          "2024-01-04T16:00:00+00:00",
          "2024-01-04T17:00:00+00:00",
          "2024-01-04T18:00:00+00:00",
          "2024-01-04T19:00:00+00:00",
          "2024-01-04T20:00:00+00:00",
          "2024-01-04T21:00:00+00:00",
          "2024-01-04T22:00:00+00:00",
          "2024-01-04T23:00:00+00:00",
          "2024-01-05T00:00:00+00:00",
          "2024-01-05T01:00:00+00:00",
          "2024-01-05T02:00:00+00:00",
          "2024-01-05T03:00:00+00:00",
          "2024-01-05T04:00:00+00:00",
          "2024-01-05T05:00:00+00:00",
          "2024-01-05T06:00:00+00:00",
          "2024-01-05T07:00:00+00:00",
          "2024-01-05T08:00:00+00:00",
          "2024-01-05T09:00:00+00:00",
          "2024-01-05T10:00:00+00:00",
          "2024-01-05T11:00:00+00:00",
          "2024-01-05T12:00:00+00:00",
          "2024-01-05T13:00:00+00:00",
          "2024-01-05T14:00:00+00:00",
          "2024-01-05T15:00:00+00:00",
          "2024-01-05T16:00:00+00:00",
          "2024-01-05T17:00:00+00:00",
          "2024-01-05T18:00:00+00:00",
          "2024-01-05T19:00:00+00:00",
          "2024-01-05T20:00:00+00:00",
          "2024-01-05T21:00:00+00:00",
          "2024-01-07T22:00:00+00:00",
          "2024-01-07T23:00:00+00:00",
          "2024-01-08T00:00:00+00:00",
          "2024-01-08T01:00:00+00:00",
          "2024-01-08T02:00:00+00:00",
          "2024-01-08T03:00:00+00:00",
          "2024-01-08T04:00:00+00:00",
          "2024-01-08T05:00:00+00:00",
          "2024-01-08T06:00:00+00:00",
          "2024-01-08T07:00:00+00:00",
          "2024-01-08T08:00:00+00:00",
          "2024-01-08T09:00:00+00:00",
          "2024-01-08T10:00:00+00:00",
          "2024-01-08T11:00:00+00:00",
          "2024-01-08T12:00:00+00:00",
          "2024-01-08T13:00:00+00:00",
          "2024-01-08T14:00:00+00:00",
          "2024-01-08T15:00:00+00:00",
          "2024-01-08T16:00:00+00:00",
          "2024-01-08T17:00:00+00:00",
          "2024-01-08T18:00:00+00:00",
          "2024-01-08T19:00:00+00:00",
          "2024-01-08T20:00:00+00:00",
          "2024-01-08T21:00:00+00:00",
          "2024-01-08T22:00:00+00:00",
          "2024-01-08T23:00:00+00:00",
          "2024-01-09T00:00:00+00:00",
          "2024-01-09T01:00:00+00:00",
          "2024-01-09T02:00:00+00:00",
          "2024-01-09T03:00:00+00:00",
          "2024-01-09T04:00:00+00:00",
          "2024-01-09T05:00:00+00:00",
          "2024-01-09T06:00:00+00:00",
          "2024-01-09T07:00:00+00:00",
          "2024-01-09T08:00:00+00:00",
          "2024-01-09T09:00:00+00:00",
          "2024-01-09T10:00:00+00:00",
          "2024-01-09T11:00:00+00:00",
          "2024-01-09T12:00:00+00:00",
          "2024-01-09T13:00:00+00:00",
          "2024-01-09T14:00:00+00:00",
          "2024-01-09T15:00:00+00:00",
          "2024-01-09T16:00:00+00:00",
          "2024-01-09T17:00:00+00:00",
          "2024-01-09T18:00:00+00:00",
          "2024-01-09T19:00:00+00:00",
          "2024-01-09T20:00:00+00:00",
          "2024-01-09T21:00:00+00:00",
          "2024-01-09T22:00:00+00:00",
          "2024-01-09T23:00:00+00:00",
          "2024-01-10T00:00:00+00:00",
          "2024-01-10T01:00:00+00:00",
          "2024-01-10T02:00:00+00:00",
          "2024-01-10T03:00:00+00:00",
          "2024-01-10T04:00:00+00:00",
          "2024-01-10T05:00:00+00:00",
          "2024-01-10T06:00:00+00:00",
          "2024-01-10T07:00:00+00:00",
          "2024-01-10T08:00:00+00:00",
          "2024-01-10T09:00:00+00:00",
          "2024-01-10T10:00:00+00:00",
          "2024-01-10T11:00:00+00:00",
          "2024-01-10T12:00:00+00:00",
          "2024-01-10T13:00:00+00:00",
          "2024-01-10T14:00:00+00:00",
          "2024-01-10T15:00:00+00:00",
          "2024-01-10T16:00:00+00:00",
          "2024-01-10T17:00:00+00:00",
          "2024-01-10T18:00:00+00:00",
          "2024-01-10T19:00:00+00:00",
          "2024-01-10T20:00:00+00:00",
          "2024-01-10T21:00:00+00:00",
          "2024-01-10T22:00:00+00:00",
          "2024-01-10T23:00:00+00:00",
          "2024-01-11T00:00:00+00:00",
          "2024-01-11T01:00:00+00:00",
          "2024-01-11T02:00:00+00:00",
          "2024-01-11T03:00:00+00:00",
          "2024-01-11T04:00:00+00:00",
          "2024-01-11T05:00:00+00:00",
          "2024-01-11T06:00:00+00:00",
          "2024-01-11T07:00:00+00:00",
          "2024-01-11T08:00:00+00:00",
          "2024-01-11T09:00:00+00:00",
          "2024-01-11T10:00:00+00:00",
          "2024-01-11T11:00:00+00:00",
          "2024-01-11T12:00:00+00:00",
          "2024-01-11T13:00:00+00:00",
          "2024-01-11T14:00:00+00:00"
         ]
        },
        {
         "marker": {
          "color": "green",
          "line": {
           "color": "black",
           "width": 2
          },
          "size": 12,
          "symbol": "diamond"
         },
         "mode": "markers+text",
         "name": "Buy Signal",
         "text": "BUY",
         "textfont": {
          "color": "black",
          "family": "Arial",
          "size": 14,
          "weight": "bold"
         },
         "textposition": "bottom center",
         "type": "scatter",
         "x": [
          "2024-01-03T12:00:00+00:00",
          "2024-01-04T10:00:00+00:00"
         ],
         "y": {
          "bdata": "gZVDi2yPZkDHSzeJQeBmQA==",
          "dtype": "f8"
         }
        },
        {
         "marker": {
          "color": "red",
          "line": {
           "color": "black",
           "width": 2
          },
          "size": 12,
          "symbol": "diamond"
         },
         "mode": "markers+text",
         "name": "Sell Signal",
         "text": "SELL",
         "textfont": {
          "color": "black",
          "family": "Arial",
          "size": 14,
          "weight": "bold"
         },
         "textposition": "top center",
         "type": "scatter",
         "x": [
          "2024-01-04T05:00:00+00:00",
          "2024-01-10T14:00:00+00:00"
         ],
         "y": {
          "bdata": "KlyPwvXGZkD+1HjpJiFnQA==",
          "dtype": "f8"
         }
        }
       ],
       "layout": {
        "autosize": true,
        "height": 900,
        "margin": {
         "b": 60,
         "l": 50,
         "r": 50,
         "t": 60
        },
        "showlegend": true,
        "template": {
         "data": {
          "bar": [
           {
            "error_x": {
             "color": "#2a3f5f"
            },
            "error_y": {
             "color": "#2a3f5f"
            },
            "marker": {
             "line": {
              "color": "#E5ECF6",
              "width": 0.5
             },
             "pattern": {
              "fillmode": "overlay",
              "size": 10,
              "solidity": 0.2
             }
            },
            "type": "bar"
           }
          ],
          "barpolar": [
           {
            "marker": {
             "line": {
              "color": "#E5ECF6",
              "width": 0.5
             },
             "pattern": {
              "fillmode": "overlay",
              "size": 10,
              "solidity": 0.2
             }
            },
            "type": "barpolar"
           }
          ],
          "carpet": [
           {
            "aaxis": {
             "endlinecolor": "#2a3f5f",
             "gridcolor": "white",
             "linecolor": "white",
             "minorgridcolor": "white",
             "startlinecolor": "#2a3f5f"
            },
            "baxis": {
             "endlinecolor": "#2a3f5f",
             "gridcolor": "white",
             "linecolor": "white",
             "minorgridcolor": "white",
             "startlinecolor": "#2a3f5f"
            },
            "type": "carpet"
           }
          ],
          "choropleth": [
           {
            "colorbar": {
             "outlinewidth": 0,
             "ticks": ""
            },
            "type": "choropleth"
           }
          ],
          "contour": [
           {
            "colorbar": {
             "outlinewidth": 0,
             "ticks": ""
            },
            "colorscale": [
             [
              0,
              "#0d0887"
             ],
             [
              0.1111111111111111,
              "#46039f"
             ],
             [
              0.2222222222222222,
              "#7201a8"
             ],
             [
              0.3333333333333333,
              "#9c179e"
             ],
             [
              0.4444444444444444,
              "#bd3786"
             ],
             [
              0.5555555555555556,
              "#d8576b"
             ],
             [
              0.6666666666666666,
              "#ed7953"
             ],
             [
              0.7777777777777778,
              "#fb9f3a"
             ],
             [
              0.8888888888888888,
              "#fdca26"
             ],
             [
              1,
              "#f0f921"
             ]
            ],
            "type": "contour"
           }
          ],
          "contourcarpet": [
           {
            "colorbar": {
             "outlinewidth": 0,
             "ticks": ""
            },
            "type": "contourcarpet"
           }
          ],
          "heatmap": [
           {
            "colorbar": {
             "outlinewidth": 0,
             "ticks": ""
            },
            "colorscale": [
             [
              0,
              "#0d0887"
             ],
             [
              0.1111111111111111,
              "#46039f"
             ],
             [
              0.2222222222222222,
              "#7201a8"
             ],
             [
              0.3333333333333333,
              "#9c179e"
             ],
             [
              0.4444444444444444,
              "#bd3786"
             ],
             [
              0.5555555555555556,
              "#d8576b"
             ],
             [
              0.6666666666666666,
              "#ed7953"
             ],
             [
              0.7777777777777778,
              "#fb9f3a"
             ],
             [
              0.8888888888888888,
              "#fdca26"
             ],
             [
              1,
              "#f0f921"
             ]
            ],
            "type": "heatmap"
           }
          ],
          "histogram": [
           {
            "marker": {
             "pattern": {
              "fillmode": "overlay",
              "size": 10,
              "solidity": 0.2
             }
            },
            "type": "histogram"
           }
          ],
          "histogram2d": [
           {
            "colorbar": {
             "outlinewidth": 0,
             "ticks": ""
            },
            "colorscale": [
             [
              0,
              "#0d0887"
             ],
             [
              0.1111111111111111,
              "#46039f"
             ],
             [
              0.2222222222222222,
              "#7201a8"
             ],
             [
              0.3333333333333333,
              "#9c179e"
             ],
             [
              0.4444444444444444,
              "#bd3786"
             ],
             [
              0.5555555555555556,
              "#d8576b"
             ],
             [
              0.6666666666666666,
              "#ed7953"
             ],
             [
              0.7777777777777778,
              "#fb9f3a"
             ],
             [
              0.8888888888888888,
              "#fdca26"
             ],
             [
              1,
              "#f0f921"
             ]
            ],
            "type": "histogram2d"
           }
          ],
          "histogram2dcontour": [
           {
            "colorbar": {
             "outlinewidth": 0,
             "ticks": ""
            },
            "colorscale": [
             [
              0,
              "#0d0887"
             ],
             [
              0.1111111111111111,
              "#46039f"
             ],
             [
              0.2222222222222222,
              "#7201a8"
             ],
             [
              0.3333333333333333,
              "#9c179e"
             ],
             [
              0.4444444444444444,
              "#bd3786"
             ],
             [
              0.5555555555555556,
              "#d8576b"
             ],
             [
              0.6666666666666666,
              "#ed7953"
             ],
             [
              0.7777777777777778,
              "#fb9f3a"
             ],
             [
              0.8888888888888888,
              "#fdca26"
             ],
             [
              1,
              "#f0f921"
             ]
            ],
            "type": "histogram2dcontour"
           }
          ],
          "mesh3d": [
           {
            "colorbar": {
             "outlinewidth": 0,
             "ticks": ""
            },
            "type": "mesh3d"
           }
          ],
          "parcoords": [
           {
            "line": {
             "colorbar": {
              "outlinewidth": 0,
              "ticks": ""
             }
            },
            "type": "parcoords"
           }
          ],
          "pie": [
           {
            "automargin": true,
            "type": "pie"
           }
          ],
          "scatter": [
           {
            "fillpattern": {
             "fillmode": "overlay",
             "size": 10,
             "solidity": 0.2
            },
            "type": "scatter"
           }
          ],
          "scatter3d": [
           {
            "line": {
             "colorbar": {
              "outlinewidth": 0,
              "ticks": ""
             }
            },
            "marker": {
             "colorbar": {
              "outlinewidth": 0,
              "ticks": ""
             }
            },
            "type": "scatter3d"
           }
          ],
          "scattercarpet": [
           {
            "marker": {
             "colorbar": {
              "outlinewidth": 0,
              "ticks": ""
             }
            },
            "type": "scattercarpet"
           }
          ],
          "scattergeo": [
           {
            "marker": {
             "colorbar": {
              "outlinewidth": 0,
              "ticks": ""
             }
            },
            "type": "scattergeo"
           }
          ],
          "scattergl": [
           {
            "marker": {
             "colorbar": {
              "outlinewidth": 0,
              "ticks": ""
             }
            },
            "type": "scattergl"
           }
          ],
          "scattermap": [
           {
            "marker": {
             "colorbar": {
              "outlinewidth": 0,
              "ticks": ""
             }
            },
            "type": "scattermap"
           }
          ],
          "scattermapbox": [
           {
            "marker": {
             "colorbar": {
              "outlinewidth": 0,
              "ticks": ""
             }
            },
            "type": "scattermapbox"
           }
          ],
          "scatterpolar": [
           {
            "marker": {
             "colorbar": {
              "outlinewidth": 0,
              "ticks": ""
             }
            },
            "type": "scatterpolar"
           }
          ],
          "scatterpolargl": [
           {
            "marker": {
             "colorbar": {
              "outlinewidth": 0,
              "ticks": ""
             }
            },
            "type": "scatterpolargl"
           }
          ],
          "scatterternary": [
           {
            "marker": {
             "colorbar": {
              "outlinewidth": 0,
              "ticks": ""
             }
            },
            "type": "scatterternary"
           }
          ],
          "surface": [
           {
            "colorbar": {
             "outlinewidth": 0,
             "ticks": ""
            },
            "colorscale": [
             [
              0,
              "#0d0887"
             ],
             [
              0.1111111111111111,
              "#46039f"
             ],
             [
              0.2222222222222222,
              "#7201a8"
             ],
             [
              0.3333333333333333,
              "#9c179e"
             ],
             [
              0.4444444444444444,
              "#bd3786"
             ],
             [
              0.5555555555555556,
              "#d8576b"
             ],
             [
              0.6666666666666666,
              "#ed7953"
             ],
             [
              0.7777777777777778,
              "#fb9f3a"
             ],
             [
              0.8888888888888888,
              "#fdca26"
             ],
             [
              1,
              "#f0f921"
             ]
            ],
            "type": "surface"
           }
          ],
          "table": [
           {
            "cells": {
             "fill": {
              "color": "#EBF0F8"
             },
             "line": {
              "color": "white"
             }
            },
            "header": {
             "fill": {
              "color": "#C8D4E3"
             },
             "line": {
              "color": "white"
             }
            },
            "type": "table"
           }
          ]
         },
         "layout": {
          "annotationdefaults": {
           "arrowcolor": "#2a3f5f",
           "arrowhead": 0,
           "arrowwidth": 1
          },
          "autotypenumbers": "strict",
          "coloraxis": {
           "colorbar": {
            "outlinewidth": 0,
            "ticks": ""
           }
          },
          "colorscale": {
           "diverging": [
            [
             0,
             "#8e0152"
            ],
            [
             0.1,
             "#c51b7d"
            ],
            [
             0.2,
             "#de77ae"
            ],
            [
             0.3,
             "#f1b6da"
            ],
            [
             0.4,
             "#fde0ef"
            ],
            [
             0.5,
             "#f7f7f7"
            ],
            [
             0.6,
             "#e6f5d0"
            ],
            [
             0.7,
             "#b8e186"
            ],
            [
             0.8,
             "#7fbc41"
            ],
            [
             0.9,
             "#4d9221"
            ],
            [
             1,
             "#276419"
            ]
           ],
           "sequential": [
            [
             0,
             "#0d0887"
            ],
            [
             0.1111111111111111,
             "#46039f"
            ],
            [
             0.2222222222222222,
             "#7201a8"
            ],
            [
             0.3333333333333333,
             "#9c179e"
            ],
            [
             0.4444444444444444,
             "#bd3786"
            ],
            [
             0.5555555555555556,
             "#d8576b"
            ],
            [
             0.6666666666666666,
             "#ed7953"
            ],
            [
             0.7777777777777778,
             "#fb9f3a"
            ],
            [
             0.8888888888888888,
             "#fdca26"
            ],
            [
             1,
             "#f0f921"
            ]
           ],
           "sequentialminus": [
            [
             0,
             "#0d0887"
            ],
            [
             0.1111111111111111,
             "#46039f"
            ],
            [
             0.2222222222222222,
             "#7201a8"
            ],
            [
             0.3333333333333333,
             "#9c179e"
            ],
            [
             0.4444444444444444,
             "#bd3786"
            ],
            [
             0.5555555555555556,
             "#d8576b"
            ],
            [
             0.6666666666666666,
             "#ed7953"
            ],
            [
             0.7777777777777778,
             "#fb9f3a"
            ],
            [
             0.8888888888888888,
             "#fdca26"
            ],
            [
             1,
             "#f0f921"
            ]
           ]
          },
          "colorway": [
           "#636efa",
           "#EF553B",
           "#00cc96",
           "#ab63fa",
           "#FFA15A",
           "#19d3f3",
           "#FF6692",
           "#B6E880",
           "#FF97FF",
           "#FECB52"
          ],
          "font": {
           "color": "#2a3f5f"
          },
          "geo": {
           "bgcolor": "white",
           "lakecolor": "white",
           "landcolor": "#E5ECF6",
           "showlakes": true,
           "showland": true,
           "subunitcolor": "white"
          },
          "hoverlabel": {
           "align": "left"
          },
          "hovermode": "closest",
          "mapbox": {
           "style": "light"
          },
          "paper_bgcolor": "white",
          "plot_bgcolor": "#E5ECF6",
          "polar": {
           "angularaxis": {
            "gridcolor": "white",
            "linecolor": "white",
            "ticks": ""
           },
           "bgcolor": "#E5ECF6",
           "radialaxis": {
            "gridcolor": "white",
            "linecolor": "white",
            "ticks": ""
           }
          },
          "scene": {
           "xaxis": {
            "backgroundcolor": "#E5ECF6",
            "gridcolor": "white",
            "gridwidth": 2,
            "linecolor": "white",
            "showbackground": true,
            "ticks": "",
            "zerolinecolor": "white"
           },
           "yaxis": {
            "backgroundcolor": "#E5ECF6",
            "gridcolor": "white",
            "gridwidth": 2,
            "linecolor": "white",
            "showbackground": true,
            "ticks": "",
            "zerolinecolor": "white"
           },
           "zaxis": {
            "backgroundcolor": "#E5ECF6",
            "gridcolor": "white",
            "gridwidth": 2,
            "linecolor": "white",
            "showbackground": true,
            "ticks": "",
            "zerolinecolor": "white"
           }
          },
          "shapedefaults": {
           "line": {
            "color": "#2a3f5f"
           }
          },
          "ternary": {
           "aaxis": {
            "gridcolor": "white",
            "linecolor": "white",
            "ticks": ""
           },
           "baxis": {
            "gridcolor": "white",
            "linecolor": "white",
            "ticks": ""
           },
           "bgcolor": "#E5ECF6",
           "caxis": {
            "gridcolor": "white",
            "linecolor": "white",
            "ticks": ""
           }
          },
          "title": {
           "x": 0.05
          },
          "xaxis": {
           "automargin": true,
           "gridcolor": "white",
           "linecolor": "white",
           "ticks": "",
           "title": {
            "standoff": 15
           },
           "zerolinecolor": "white",
           "zerolinewidth": 2
          },
          "yaxis": {
           "automargin": true,
           "gridcolor": "white",
           "linecolor": "white",
           "ticks": "",
           "title": {
            "standoff": 15
           },
           "zerolinecolor": "white",
           "zerolinewidth": 2
          }
         }
        },
        "title": {
         "text": "Candlestick Chart with Indicators and Trade Signals"
        },
        "xaxis": {
         "fixedrange": false,
         "rangeslider": {
          "visible": true
         },
         "title": {
          "text": "Datetime"
         },
         "type": "category"
        },
        "yaxis": {
         "fixedrange": false,
         "title": {
          "text": "Price"
         }
        }
       }
      }
     },
     "metadata": {},
     "output_type": "display_data"
    }
   ],
   "source": [
    "show_trades(price, trades, start_date=\"2024, 1, 1\", trade_number=1)"
   ]
  },
  {
   "cell_type": "code",
   "execution_count": 56,
   "metadata": {},
   "outputs": [
    {
     "data": {
      "image/png": "[encoded data removed]",
      "text/plain": [
       "<Figure size 1600x800 with 1 Axes>"
      ]
     },
     "metadata": {},
     "output_type": "display_data"
    }
   ],
   "source": [
    "plt.style.use(\"dark_background\")\n",
    "plt.rcParams[\"figure.figsize\"] = (16, 8)\n",
    "plt.rcParams.update({\"font.size\": 18})\n",
    "\n",
    "colours = [\"tab:olive\", \"tab:blue\", \"tab:purple\", \"tab:orange\", \"tab:green\", \"tab:cyan\", \"tab:red\", \"tab:gray\", \"tab:pink\"]\n",
    "\n",
    "for count, sym in enumerate(symbols):\n",
    "    plt.figure()\n",
    "    plt.title(f\"Performance of {sym}\")\n",
    "\n",
    "    legend_entries = []  # Store legend labels\n",
    "    colour_idx = 0  # To cycle through colors if needed\n",
    "\n",
    "    for atr_sl in sl_range:\n",
    "        for tp_ratio in tp_range:\n",
    "            for c, s in enumerate(systems):\n",
    "                # Generate a unique index for each (SL, TP) combination\n",
    "                result_idx = count * len(sl_range) * len(tp_range) + list(sl_range).index(atr_sl) * len(tp_range) + list(tp_range).index(tp_ratio)\n",
    "\n",
    "                if result_idx >= len(results):  \n",
    "                    continue  # Prevent out-of-bounds error\n",
    "\n",
    "                label = f\"{s} (SL={atr_sl}, TP={tp_ratio})\"  # Legend label\n",
    "                color = colours[colour_idx % len(colours)]  # Cycle through colors\n",
    "                \n",
    "                plt.plot(results[result_idx][f\"{s}_Bal\"], color=color, label=label)\n",
    "                legend_entries.append(label)\n",
    "\n",
    "                colour_idx += 1  # Move to next color\n",
    "\n",
    "    plt.legend(loc=\"upper center\", bbox_to_anchor=(0.5, -0.1), ncol=2)\n",
    "    plt.xlabel(\"Time\")\n",
    "    plt.ylabel(\"Balance\")\n",
    "    #plt.grid(True, linestyle=\"--\", alpha=0.5)\n",
    "    plt.savefig(\"plot.png\", format=\"png\", dpi=300, bbox_inches=\"tight\")\n",
    "    plt.show()\n",
    "\n",
    "\n"
   ]
  },
  {
   "cell_type": "code",
   "execution_count": 57,
   "metadata": {},
   "outputs": [
    {
     "name": "stdout",
     "output_type": "stream",
     "text": [
      "                         Strat\n",
      "Start_Balance           100.00\n",
      "Final_Balance           735.12\n",
      "Annual_Return            48.43\n",
      "Max_Drawdown            -14.25\n",
      "Sharpe                    0.70\n",
      "Sortino                   1.27\n",
      "Trades                  382.00\n",
      "Winrate                  51.18\n",
      "Avg_RR                    1.48\n",
      "Longest_Trade_Duration   22.00\n",
      "Avg_Trade_Duration        2.70\n"
     ]
    }
   ],
   "source": [
    "print(sys_metrics_df)"
   ]
  },
  {
   "cell_type": "code",
   "execution_count": 58,
   "metadata": {},
   "outputs": [
    {
     "name": "stdout",
     "output_type": "stream",
     "text": [
      "            Average_Return_Percentage  Trades_Count\n",
      "Entry_Hour                                         \n",
      "10                           0.622951           122\n",
      "11                           0.672414            58\n",
      "12                           0.343750            32\n",
      "13                           0.277135            26\n",
      "14                           0.500000            30\n",
      "15                           0.125000            40\n",
      "16                           1.055556            36\n",
      "17                           0.352941            17\n",
      "18                           1.571429             7\n",
      "19                           0.500000             2\n",
      "20                          -2.000000             4\n",
      "21                           0.367241             5\n",
      "22                           3.000000             2\n"
     ]
    }
   ],
   "source": [
    "# Split index into 'Date' and 'Time' columns\n",
    "trades['Entry_Date'] = pd.to_datetime(trades[\"Entry_Date\"])\n",
    "trades['Entry_Hour'] = trades['Entry_Date'].dt.hour\n",
    "\n",
    "# Convert \"Strat_Breakout_Return\" to percentage\n",
    "trades[\"Return_Percentage\"] = (trades[f\"{systems[-1]}_Return\"] - 1) * 100\n",
    "\n",
    "# Group by Hour and Calculate Average PnL\n",
    "hourly_return = trades.groupby(\"Entry_Hour\")[\"Return_Percentage\"].mean()\n",
    "\n",
    "# Group by Hour and Count Number of Trades\n",
    "hourly_trades_count = trades.groupby(\"Entry_Hour\")[\"Return_Percentage\"].count()\n",
    "\n",
    "# Combine the two results into a single DataFrame\n",
    "hourly_stats = pd.DataFrame({\n",
    "    \"Average_Return_Percentage\": hourly_return,\n",
    "    \"Trades_Count\": hourly_trades_count\n",
    "})\n",
    "\n",
    "# Display Result\n",
    "print(hourly_stats)"
   ]
  },
  {
   "cell_type": "code",
   "execution_count": 59,
   "metadata": {},
   "outputs": [],
   "source": [
    "result.index = pd.to_datetime(result.index)\n",
    "\n",
    "# Extract unique years\n",
    "years = result.index.year.unique()\n",
    "\n",
    "# Calculate returns\n",
    "data = []\n",
    "for year in result.index.year.unique():\n",
    "    yearly_data = result[result.index.year == year]\n",
    "    \n",
    "    for system in systems:\n",
    "        start_bal = yearly_data[f\"{system}_Bal\"].iloc[0]\n",
    "        end_bal = yearly_data[f\"{system}_Bal\"].iloc[-1]\n",
    "        return_pct = ((end_bal - start_bal) / start_bal) * 100\n",
    "        data.append([year, system, return_pct])\n",
    "\n",
    "# Convert to DataFrame\n",
    "returns_df = pd.DataFrame(data, columns=[\"Year\", \"System\", \"Return\"])\n"
   ]
  },
  {
   "cell_type": "code",
   "execution_count": 60,
   "metadata": {},
   "outputs": [
    {
     "data": {
      "image/png": "[encoded data removed]",
      "text/plain": [
       "<Figure size 1600x800 with 1 Axes>"
      ]
     },
     "metadata": {},
     "output_type": "display_data"
    }
   ],
   "source": [
    "# Set up the figure\n",
    "plt.figure(figsize=(16, 8))\n",
    "sns.set_palette(\"tab10\")\n",
    "\n",
    "# Plot the bar chart\n",
    "ax = sns.barplot(data=returns_df, x=\"Year\", y=\"Return\", hue=\"System\", dodge=True, width=0.7)\n",
    "\n",
    "# Rotate x-axis labels for better visibility\n",
    "plt.xticks(rotation=45)\n",
    "\n",
    "# Add title and labels\n",
    "plt.ylabel(\"Return (%)\", fontsize=14)\n",
    "plt.xlabel(\"Year\", fontsize=14)\n",
    "plt.title(\"Annual Percentage Return for Each System\", fontsize=16, fontweight='bold')\n",
    "\n",
    "# Gridlines\n",
    "ax.set_axisbelow(True)\n",
    "plt.grid(axis=\"y\", linestyle=\"--\", alpha=0.5, zorder=0)\n",
    "\n",
    "# Legend\n",
    "plt.legend(title=\"System\", loc=\"upper left\")\n",
    "\n",
    "# Show the final chart\n",
    "plt.show()"
   ]
  },
  {
   "cell_type": "code",
   "execution_count": 61,
   "metadata": {},
   "outputs": [],
   "source": [
    "trades.to_csv(\"trades.csv\")\n",
    "result.to_csv(\"result.csv\")"
   ]
  }
 ],
 "metadata": {
  "kernelspec": {
   "display_name": "Python 3",
   "language": "python",
   "name": "python3"
  },
  "language_info": {
   "codemirror_mode": {
    "name": "ipython",
    "version": 3
   },
   "file_extension": ".py",
   "mimetype": "text/x-python",
   "name": "python",
   "nbconvert_exporter": "python",
   "pygments_lexer": "ipython3",
   "version": "3.13.2"
  }
 },
 "nbformat": 4,
 "nbformat_minor": 2
}
